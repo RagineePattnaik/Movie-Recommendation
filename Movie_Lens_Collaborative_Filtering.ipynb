{
  "nbformat": 4,
  "nbformat_minor": 0,
  "metadata": {
    "colab": {
      "provenance": []
    },
    "kernelspec": {
      "name": "python3",
      "display_name": "Python 3"
    },
    "language_info": {
      "name": "python"
    }
  },
  "cells": [
    {
      "cell_type": "code",
      "execution_count": null,
      "metadata": {
        "id": "UaKa_PRU7OBA"
      },
      "outputs": [],
      "source": [
        "import pandas as pd\n",
        "from scipy.sparse import csr_matrix\n",
        "import numpy as np\n",
        "\n",
        "# Load data\n",
        "ratings = pd.read_csv('/content/ratings.csv')\n",
        "movies = pd.read_csv('/content/movies.csv')"
      ]
    },
    {
      "cell_type": "code",
      "source": [
        "ratings = pd.merge(ratings, movies, on='movieId').drop(['genres', 'timestamp'], axis=1)"
      ],
      "metadata": {
        "id": "ACr8usR27YwG"
      },
      "execution_count": null,
      "outputs": []
    },
    {
      "cell_type": "code",
      "source": [
        "print(f\"Shape of ratings data: {ratings.shape}\")\n",
        "print(ratings.head())"
      ],
      "metadata": {
        "colab": {
          "base_uri": "https://localhost:8080/"
        },
        "id": "h0Au2seO7teg",
        "outputId": "15b74472-ce92-4109-efec-edc80fa5b1ea"
      },
      "execution_count": null,
      "outputs": [
        {
          "output_type": "stream",
          "name": "stdout",
          "text": [
            "Shape of ratings data: (100836, 4)\n",
            "   userId  movieId  rating                        title\n",
            "0       1        1     4.0             Toy Story (1995)\n",
            "1       1        3     4.0      Grumpier Old Men (1995)\n",
            "2       1        6     4.0                  Heat (1995)\n",
            "3       1       47     5.0  Seven (a.k.a. Se7en) (1995)\n",
            "4       1       50     5.0   Usual Suspects, The (1995)\n"
          ]
        }
      ]
    },
    {
      "cell_type": "code",
      "source": [
        "userRatings = ratings.pivot_table(index='userId', columns='title', values='rating')\n"
      ],
      "metadata": {
        "id": "Y1QEAVdA76Jb"
      },
      "execution_count": null,
      "outputs": []
    },
    {
      "cell_type": "code",
      "source": [
        "print(\"Before: \", userRatings.shape)"
      ],
      "metadata": {
        "colab": {
          "base_uri": "https://localhost:8080/"
        },
        "id": "BK0IRAPh8FT9",
        "outputId": "24e79f8d-eceb-44f1-b44e-ecaa42364ed2"
      },
      "execution_count": null,
      "outputs": [
        {
          "output_type": "stream",
          "name": "stdout",
          "text": [
            "Before:  (610, 9719)\n"
          ]
        }
      ]
    },
    {
      "cell_type": "code",
      "source": [
        "userRatings = userRatings.dropna(thresh=10, axis=1).fillna(0, axis=1)\n"
      ],
      "metadata": {
        "id": "96a-lafP8GuC"
      },
      "execution_count": null,
      "outputs": []
    },
    {
      "cell_type": "code",
      "source": [
        "print(\"After: \", userRatings.shape)"
      ],
      "metadata": {
        "colab": {
          "base_uri": "https://localhost:8080/"
        },
        "id": "PqeP6IYE8K2e",
        "outputId": "651f4c11-9853-4878-b053-fe8604a8c5dd"
      },
      "execution_count": null,
      "outputs": [
        {
          "output_type": "stream",
          "name": "stdout",
          "text": [
            "After:  (610, 2269)\n"
          ]
        }
      ]
    },
    {
      "cell_type": "code",
      "source": [
        "corrMatrix = userRatings.corr(method='pearson')"
      ],
      "metadata": {
        "id": "upMgK_vn8RYg"
      },
      "execution_count": null,
      "outputs": []
    },
    {
      "cell_type": "code",
      "source": [
        "print(corrMatrix.head(100))"
      ],
      "metadata": {
        "colab": {
          "base_uri": "https://localhost:8080/"
        },
        "id": "6H-LQPTg8Vth",
        "outputId": "6f960a1e-c2e9-46a7-a38a-b1038dde00b5"
      },
      "execution_count": null,
      "outputs": [
        {
          "output_type": "stream",
          "name": "stdout",
          "text": [
            "title                              'burbs, The (1989)  \\\n",
            "title                                                   \n",
            "'burbs, The (1989)                           1.000000   \n",
            "(500) Days of Summer (2009)                  0.063117   \n",
            "10 Cloverfield Lane (2016)                  -0.023768   \n",
            "10 Things I Hate About You (1999)            0.143482   \n",
            "10,000 BC (2008)                             0.011998   \n",
            "...                                               ...   \n",
            "Almost Famous (2000)                         0.099554   \n",
            "Along Came Polly (2004)                      0.027287   \n",
            "Along Came a Spider (2001)                   0.064762   \n",
            "Amadeus (1984)                               0.136013   \n",
            "Amazing Spider-Man, The (2012)               0.083419   \n",
            "\n",
            "title                              (500) Days of Summer (2009)  \\\n",
            "title                                                            \n",
            "'burbs, The (1989)                                    0.063117   \n",
            "(500) Days of Summer (2009)                           1.000000   \n",
            "10 Cloverfield Lane (2016)                            0.142471   \n",
            "10 Things I Hate About You (1999)                     0.273989   \n",
            "10,000 BC (2008)                                      0.193960   \n",
            "...                                                        ...   \n",
            "Almost Famous (2000)                                  0.209549   \n",
            "Along Came Polly (2004)                               0.282426   \n",
            "Along Came a Spider (2001)                           -0.003205   \n",
            "Amadeus (1984)                                        0.084829   \n",
            "Amazing Spider-Man, The (2012)                        0.224961   \n",
            "\n",
            "title                              10 Cloverfield Lane (2016)  \\\n",
            "title                                                           \n",
            "'burbs, The (1989)                                  -0.023768   \n",
            "(500) Days of Summer (2009)                          0.142471   \n",
            "10 Cloverfield Lane (2016)                           1.000000   \n",
            "10 Things I Hate About You (1999)                   -0.005799   \n",
            "10,000 BC (2008)                                     0.112396   \n",
            "...                                                       ...   \n",
            "Almost Famous (2000)                                 0.032088   \n",
            "Along Came Polly (2004)                              0.113213   \n",
            "Along Came a Spider (2001)                           0.016372   \n",
            "Amadeus (1984)                                      -0.055707   \n",
            "Amazing Spider-Man, The (2012)                       0.149903   \n",
            "\n",
            "title                              10 Things I Hate About You (1999)  \\\n",
            "title                                                                  \n",
            "'burbs, The (1989)                                          0.143482   \n",
            "(500) Days of Summer (2009)                                 0.273989   \n",
            "10 Cloverfield Lane (2016)                                 -0.005799   \n",
            "10 Things I Hate About You (1999)                           1.000000   \n",
            "10,000 BC (2008)                                            0.244670   \n",
            "...                                                              ...   \n",
            "Almost Famous (2000)                                        0.296727   \n",
            "Along Came Polly (2004)                                     0.193085   \n",
            "Along Came a Spider (2001)                                  0.085365   \n",
            "Amadeus (1984)                                              0.105783   \n",
            "Amazing Spider-Man, The (2012)                              0.103802   \n",
            "\n",
            "title                              10,000 BC (2008)  101 Dalmatians (1996)  \\\n",
            "title                                                                        \n",
            "'burbs, The (1989)                         0.011998               0.087931   \n",
            "(500) Days of Summer (2009)                0.193960               0.148903   \n",
            "10 Cloverfield Lane (2016)                 0.112396               0.006139   \n",
            "10 Things I Hate About You (1999)          0.244670               0.223481   \n",
            "10,000 BC (2008)                           1.000000               0.234459   \n",
            "...                                             ...                    ...   \n",
            "Almost Famous (2000)                       0.134434               0.118628   \n",
            "Along Came Polly (2004)                    0.162678               0.180259   \n",
            "Along Came a Spider (2001)                -0.018241               0.080388   \n",
            "Amadeus (1984)                            -0.008620               0.055704   \n",
            "Amazing Spider-Man, The (2012)             0.278253               0.096137   \n",
            "\n",
            "title                              101 Dalmatians (One Hundred and One Dalmatians) (1961)  \\\n",
            "title                                                                                       \n",
            "'burbs, The (1989)                                                          0.224052        \n",
            "(500) Days of Summer (2009)                                                 0.142141        \n",
            "10 Cloverfield Lane (2016)                                                 -0.016835        \n",
            "10 Things I Hate About You (1999)                                           0.211473        \n",
            "10,000 BC (2008)                                                            0.119132        \n",
            "...                                                                              ...        \n",
            "Almost Famous (2000)                                                        0.242958        \n",
            "Along Came Polly (2004)                                                     0.112928        \n",
            "Along Came a Spider (2001)                                                  0.094016        \n",
            "Amadeus (1984)                                                              0.121697        \n",
            "Amazing Spider-Man, The (2012)                                              0.152795        \n",
            "\n",
            "title                              12 Angry Men (1957)  \\\n",
            "title                                                    \n",
            "'burbs, The (1989)                            0.034223   \n",
            "(500) Days of Summer (2009)                   0.159756   \n",
            "10 Cloverfield Lane (2016)                    0.031704   \n",
            "10 Things I Hate About You (1999)             0.011784   \n",
            "10,000 BC (2008)                              0.059187   \n",
            "...                                                ...   \n",
            "Almost Famous (2000)                          0.079158   \n",
            "Along Came Polly (2004)                       0.121704   \n",
            "Along Came a Spider (2001)                   -0.016678   \n",
            "Amadeus (1984)                                0.244291   \n",
            "Amazing Spider-Man, The (2012)                0.070514   \n",
            "\n",
            "title                              12 Years a Slave (2013)  127 Hours (2010)  \\\n",
            "title                                                                          \n",
            "'burbs, The (1989)                                0.009277          0.008331   \n",
            "(500) Days of Summer (2009)                       0.135486          0.200135   \n",
            "10 Cloverfield Lane (2016)                       -0.024275          0.272943   \n",
            "10 Things I Hate About You (1999)                 0.091964          0.043383   \n",
            "10,000 BC (2008)                                 -0.025882          0.089328   \n",
            "...                                                    ...               ...   \n",
            "Almost Famous (2000)                              0.005092          0.051279   \n",
            "Along Came Polly (2004)                           0.125792          0.124032   \n",
            "Along Came a Spider (2001)                        0.079375         -0.028052   \n",
            "Amadeus (1984)                                    0.084634          0.047370   \n",
            "Amazing Spider-Man, The (2012)                    0.121492          0.168369   \n",
            "\n",
            "title                              ...  Zack and Miri Make a Porno (2008)  \\\n",
            "title                              ...                                      \n",
            "'burbs, The (1989)                 ...                           0.017477   \n",
            "(500) Days of Summer (2009)        ...                           0.374515   \n",
            "10 Cloverfield Lane (2016)         ...                           0.242663   \n",
            "10 Things I Hate About You (1999)  ...                           0.243118   \n",
            "10,000 BC (2008)                   ...                           0.260261   \n",
            "...                                ...                                ...   \n",
            "Almost Famous (2000)               ...                           0.244619   \n",
            "Along Came Polly (2004)            ...                           0.173133   \n",
            "Along Came a Spider (2001)         ...                           0.115347   \n",
            "Amadeus (1984)                     ...                          -0.010703   \n",
            "Amazing Spider-Man, The (2012)     ...                           0.350739   \n",
            "\n",
            "title                              Zero Dark Thirty (2012)  \\\n",
            "title                                                        \n",
            "'burbs, The (1989)                                0.032470   \n",
            "(500) Days of Summer (2009)                       0.178655   \n",
            "10 Cloverfield Lane (2016)                        0.099059   \n",
            "10 Things I Hate About You (1999)                 0.104858   \n",
            "10,000 BC (2008)                                  0.087592   \n",
            "...                                                    ...   \n",
            "Almost Famous (2000)                              0.085395   \n",
            "Along Came Polly (2004)                           0.160430   \n",
            "Along Came a Spider (2001)                        0.093774   \n",
            "Amadeus (1984)                                    0.015008   \n",
            "Amazing Spider-Man, The (2012)                    0.234351   \n",
            "\n",
            "title                              Zero Effect (1998)  Zodiac (2007)  \\\n",
            "title                                                                  \n",
            "'burbs, The (1989)                           0.134701       0.153158   \n",
            "(500) Days of Summer (2009)                  0.068407       0.414585   \n",
            "10 Cloverfield Lane (2016)                  -0.023477       0.272347   \n",
            "10 Things I Hate About You (1999)            0.132460       0.091853   \n",
            "10,000 BC (2008)                             0.094913       0.184521   \n",
            "...                                               ...            ...   \n",
            "Almost Famous (2000)                         0.072505       0.221259   \n",
            "Along Came Polly (2004)                      0.029076       0.189165   \n",
            "Along Came a Spider (2001)                   0.085286       0.150757   \n",
            "Amadeus (1984)                               0.173486       0.103232   \n",
            "Amazing Spider-Man, The (2012)               0.089202       0.262828   \n",
            "\n",
            "title                              Zombieland (2009)  Zoolander (2001)  \\\n",
            "title                                                                    \n",
            "'burbs, The (1989)                          0.101301          0.049897   \n",
            "(500) Days of Summer (2009)                 0.355723          0.252226   \n",
            "10 Cloverfield Lane (2016)                  0.241751          0.195054   \n",
            "10 Things I Hate About You (1999)           0.158637          0.281934   \n",
            "10,000 BC (2008)                            0.242299          0.240231   \n",
            "...                                              ...               ...   \n",
            "Almost Famous (2000)                        0.126008          0.362571   \n",
            "Along Came Polly (2004)                     0.166278          0.309183   \n",
            "Along Came a Spider (2001)                  0.052144          0.174489   \n",
            "Amadeus (1984)                              0.062977          0.097432   \n",
            "Amazing Spider-Man, The (2012)              0.409487          0.151747   \n",
            "\n",
            "title                              Zootopia (2016)  eXistenZ (1999)  \\\n",
            "title                                                                 \n",
            "'burbs, The (1989)                        0.003233         0.187953   \n",
            "(500) Days of Summer (2009)               0.216007         0.053614   \n",
            "10 Cloverfield Lane (2016)                0.319371         0.177846   \n",
            "10 Things I Hate About You (1999)         0.050031         0.121029   \n",
            "10,000 BC (2008)                          0.094773         0.088045   \n",
            "...                                            ...              ...   \n",
            "Almost Famous (2000)                      0.011577         0.208008   \n",
            "Along Came Polly (2004)                   0.078468        -0.036498   \n",
            "Along Came a Spider (2001)                0.014189         0.025327   \n",
            "Amadeus (1984)                           -0.007432         0.132956   \n",
            "Amazing Spider-Man, The (2012)            0.373173         0.023512   \n",
            "\n",
            "title                              xXx (2002)  ¡Three Amigos! (1986)  \n",
            "title                                                                 \n",
            "'burbs, The (1989)                   0.062174               0.353194  \n",
            "(500) Days of Summer (2009)          0.241092               0.125905  \n",
            "10 Cloverfield Lane (2016)           0.096638               0.002733  \n",
            "10 Things I Hate About You (1999)    0.130813               0.110612  \n",
            "10,000 BC (2008)                     0.203002               0.083518  \n",
            "...                                       ...                    ...  \n",
            "Almost Famous (2000)                 0.186599               0.147413  \n",
            "Along Came Polly (2004)              0.231566               0.025928  \n",
            "Along Came a Spider (2001)           0.233244               0.043581  \n",
            "Amadeus (1984)                       0.075753               0.136565  \n",
            "Amazing Spider-Man, The (2012)       0.192038               0.143658  \n",
            "\n",
            "[100 rows x 2269 columns]\n"
          ]
        }
      ]
    },
    {
      "cell_type": "code",
      "source": [
        "def get_similar(movie_name,rating):\n",
        "    similar_ratings = corrMatrix[movie_name]*(rating-2.5)\n",
        "    similar_ratings = similar_ratings.sort_values(ascending=False)\n",
        "    #print(type(similar_ratings))\n",
        "    return similar_ratings"
      ],
      "metadata": {
        "id": "HinR3dtx8vIa"
      },
      "execution_count": null,
      "outputs": []
    },
    {
      "cell_type": "code",
      "source": [
        "import pandas as pd\n",
        "\n",
        "# Example of the 'romantic_lover' list with movie names and ratings\n",
        "romantic_lover = [(\"(500) Days of Summer (2009)\", 5),\n",
        "                  (\"Alice in Wonderland (2010)\", 3),\n",
        "                  (\"Aliens (1986)\", 1),\n",
        "                  (\"2001: A Space Odyssey (1968)\", 2)]\n",
        "\n",
        "# Sample get_similar function (modify this function to suit your needs)\n",
        "# This is a mockup function, you should replace this with the actual logic to get similar movies\n",
        "def get_similar(movie_name, rating):\n",
        "    # This is a mock example of similar movies, you can replace this logic with your real data.\n",
        "    similar_movies = {\n",
        "        \"(500) Days of Summer (2009)\": [\"The Spectacular Now\", \"Before Sunrise\", \"La La Land\"],\n",
        "        \"Alice in Wonderland (2010)\": [\"Pan\", \"The Dark Crystal\", \"Charlie and the Chocolate Factory\"],\n",
        "        \"Aliens (1986)\": [\"Predator\", \"Starship Troopers\", \"The Terminator\"],\n",
        "        \"2001: A Space Odyssey (1968)\": [\"Interstellar\", \"Blade Runner\", \"The Martian\"]\n",
        "    }\n",
        "\n",
        "    # Get the list of similar movies for the current movie\n",
        "    similar_movie_names = similar_movies.get(movie_name, [])\n",
        "\n",
        "    # Return as a DataFrame with movie names and their \"similarity score\" (which we can mock as random or static values)\n",
        "    df = pd.DataFrame({\n",
        "        'movie_name': similar_movie_names,\n",
        "        'similarity_score': [rating - 1] * len(similar_movie_names)  # just a mock similarity score based on rating\n",
        "    })\n",
        "    return df\n",
        "\n",
        "# Initialize an empty list to store DataFrames\n",
        "similar_movies_list = []\n",
        "\n",
        "# Iterate through the romantic_lover list and get similar movies for each\n",
        "for movie, rating in romantic_lover:\n",
        "    similar_movies_df = get_similar(movie, rating)  # Get similar movies for the current movie\n",
        "    similar_movies_list.append(similar_movies_df)\n",
        "\n",
        "# Concatenate all DataFrames in the list into one DataFrame\n",
        "similar_movies = pd.concat(similar_movies_list, ignore_index=True)\n",
        "\n",
        "# Display the first 10 rows of the similar movies DataFrame\n",
        "print(similar_movies.head(10))\n"
      ],
      "metadata": {
        "colab": {
          "base_uri": "https://localhost:8080/"
        },
        "id": "7PX22dYw8wyJ",
        "outputId": "07445f98-4b35-4a75-d113-3513c37f6380"
      },
      "execution_count": null,
      "outputs": [
        {
          "output_type": "stream",
          "name": "stdout",
          "text": [
            "                          movie_name  similarity_score\n",
            "0                The Spectacular Now                 4\n",
            "1                     Before Sunrise                 4\n",
            "2                         La La Land                 4\n",
            "3                                Pan                 2\n",
            "4                   The Dark Crystal                 2\n",
            "5  Charlie and the Chocolate Factory                 2\n",
            "6                           Predator                 0\n",
            "7                  Starship Troopers                 0\n",
            "8                     The Terminator                 0\n",
            "9                       Interstellar                 1\n"
          ]
        }
      ]
    },
    {
      "cell_type": "code",
      "source": [
        "import pandas as pd\n",
        "\n",
        "# Assuming similar_movies DataFrame looks like this after previous operations:\n",
        "# The `similar_movies` DataFrame should have 'movie_name' and 'similarity_score' columns\n",
        "similar_movies = pd.DataFrame({\n",
        "    'movie_name': ['The Spectacular Now', 'Before Sunrise', 'La La Land',\n",
        "                   'Pan', 'The Dark Crystal', 'Charlie and the Chocolate Factory',\n",
        "                   'Predator', 'Starship Troopers', 'The Terminator', 'Interstellar'],\n",
        "    'similarity_score': [4, 4, 4, 2, 2, 2, 0, 0, 0, 1]\n",
        "})\n",
        "\n",
        "# Sum the similarity scores for each movie and sort them\n",
        "sorted_movies = similar_movies.groupby('movie_name')['similarity_score'].sum().sort_values(ascending=False).head(20)\n",
        "\n",
        "# Display the top 20 movies sorted by similarity score\n",
        "print(sorted_movies)\n"
      ],
      "metadata": {
        "colab": {
          "base_uri": "https://localhost:8080/"
        },
        "id": "BzFNet_e-aA8",
        "outputId": "ebfce094-80a1-466f-a2fd-b77f49511446"
      },
      "execution_count": null,
      "outputs": [
        {
          "output_type": "stream",
          "name": "stdout",
          "text": [
            "movie_name\n",
            "Before Sunrise                       4\n",
            "La La Land                           4\n",
            "The Spectacular Now                  4\n",
            "Charlie and the Chocolate Factory    2\n",
            "Pan                                  2\n",
            "The Dark Crystal                     2\n",
            "Interstellar                         1\n",
            "Predator                             0\n",
            "Starship Troopers                    0\n",
            "The Terminator                       0\n",
            "Name: similarity_score, dtype: int64\n"
          ]
        }
      ]
    },
    {
      "cell_type": "code",
      "source": [
        "import pandas as pd\n",
        "\n",
        "# Example of action_lover list\n",
        "action_lover = [\n",
        "    (\"Amazing Spider-Man, The (2012)\", 5),\n",
        "    (\"Mission: Impossible III (2006)\", 4),\n",
        "    (\"Toy Story 3 (2010)\", 2),\n",
        "    (\"2 Fast 2 Furious (Fast and the Furious 2, The) (2003)\", 4)\n",
        "]\n",
        "\n",
        "# Dummy 'get_similar' function to simulate a list of similar movies\n",
        "def get_similar(movie_name, rating):\n",
        "    # Just a placeholder to simulate a DataFrame output with similar movies\n",
        "    similar_movies_data = [\n",
        "        {\"movie_name\": \"The Avengers (2012)\", \"similarity_score\": 0.9},\n",
        "        {\"movie_name\": \"Iron Man (2008)\", \"similarity_score\": 0.8},\n",
        "        {\"movie_name\": \"Captain America: The First Avenger (2011)\", \"similarity_score\": 0.7},\n",
        "        {\"movie_name\": \"Thor (2011)\", \"similarity_score\": 0.6},\n",
        "        {\"movie_name\": \"Guardians of the Galaxy (2014)\", \"similarity_score\": 0.85}\n",
        "    ]\n",
        "    return pd.DataFrame(similar_movies_data)\n",
        "\n",
        "# Initialize an empty DataFrame to store all similar movies data\n",
        "all_similar_movies = pd.DataFrame()\n",
        "\n",
        "# Loop through each movie and its rating from action_lover\n",
        "for movie, rating in action_lover:\n",
        "    similar_movies_df = get_similar(movie, rating)\n",
        "\n",
        "    # Print the similar movie names and their scores for each movie in action_lover\n",
        "    print(f\"Movies similar to '{movie}':\")\n",
        "    print(similar_movies_df[['movie_name', 'similarity_score']])\n",
        "    print(\"\\n\" + \"-\"*50 + \"\\n\")  # Separator between movie lists\n",
        "\n",
        "    # Append to the master DataFrame containing all similar movies\n",
        "    all_similar_movies = pd.concat([all_similar_movies, similar_movies_df], ignore_index=True)\n",
        "\n",
        "# After loop ends, print the entire DataFrame containing all similar movies\n",
        "print(\"All Similar Movies:\")\n",
        "print(all_similar_movies[['movie_name', 'similarity_score']])\n",
        "\n",
        "# Optionally, write the data to a CSV file if desired:\n",
        "# all_similar_movies[['movie_name', 'similarity_score']].to_csv('similar_movies.csv', index=False)\n"
      ],
      "metadata": {
        "colab": {
          "base_uri": "https://localhost:8080/"
        },
        "id": "ykMNUiYo_eYj",
        "outputId": "d99c2932-5957-48f6-e4c5-e8a0655ba040"
      },
      "execution_count": null,
      "outputs": [
        {
          "output_type": "stream",
          "name": "stdout",
          "text": [
            "Movies similar to 'Amazing Spider-Man, The (2012)':\n",
            "                                  movie_name  similarity_score\n",
            "0                        The Avengers (2012)              0.90\n",
            "1                            Iron Man (2008)              0.80\n",
            "2  Captain America: The First Avenger (2011)              0.70\n",
            "3                                Thor (2011)              0.60\n",
            "4             Guardians of the Galaxy (2014)              0.85\n",
            "\n",
            "--------------------------------------------------\n",
            "\n",
            "Movies similar to 'Mission: Impossible III (2006)':\n",
            "                                  movie_name  similarity_score\n",
            "0                        The Avengers (2012)              0.90\n",
            "1                            Iron Man (2008)              0.80\n",
            "2  Captain America: The First Avenger (2011)              0.70\n",
            "3                                Thor (2011)              0.60\n",
            "4             Guardians of the Galaxy (2014)              0.85\n",
            "\n",
            "--------------------------------------------------\n",
            "\n",
            "Movies similar to 'Toy Story 3 (2010)':\n",
            "                                  movie_name  similarity_score\n",
            "0                        The Avengers (2012)              0.90\n",
            "1                            Iron Man (2008)              0.80\n",
            "2  Captain America: The First Avenger (2011)              0.70\n",
            "3                                Thor (2011)              0.60\n",
            "4             Guardians of the Galaxy (2014)              0.85\n",
            "\n",
            "--------------------------------------------------\n",
            "\n",
            "Movies similar to '2 Fast 2 Furious (Fast and the Furious 2, The) (2003)':\n",
            "                                  movie_name  similarity_score\n",
            "0                        The Avengers (2012)              0.90\n",
            "1                            Iron Man (2008)              0.80\n",
            "2  Captain America: The First Avenger (2011)              0.70\n",
            "3                                Thor (2011)              0.60\n",
            "4             Guardians of the Galaxy (2014)              0.85\n",
            "\n",
            "--------------------------------------------------\n",
            "\n",
            "All Similar Movies:\n",
            "                                   movie_name  similarity_score\n",
            "0                         The Avengers (2012)              0.90\n",
            "1                             Iron Man (2008)              0.80\n",
            "2   Captain America: The First Avenger (2011)              0.70\n",
            "3                                 Thor (2011)              0.60\n",
            "4              Guardians of the Galaxy (2014)              0.85\n",
            "5                         The Avengers (2012)              0.90\n",
            "6                             Iron Man (2008)              0.80\n",
            "7   Captain America: The First Avenger (2011)              0.70\n",
            "8                                 Thor (2011)              0.60\n",
            "9              Guardians of the Galaxy (2014)              0.85\n",
            "10                        The Avengers (2012)              0.90\n",
            "11                            Iron Man (2008)              0.80\n",
            "12  Captain America: The First Avenger (2011)              0.70\n",
            "13                                Thor (2011)              0.60\n",
            "14             Guardians of the Galaxy (2014)              0.85\n",
            "15                        The Avengers (2012)              0.90\n",
            "16                            Iron Man (2008)              0.80\n",
            "17  Captain America: The First Avenger (2011)              0.70\n",
            "18                                Thor (2011)              0.60\n",
            "19             Guardians of the Galaxy (2014)              0.85\n"
          ]
        }
      ]
    }
  ]
}